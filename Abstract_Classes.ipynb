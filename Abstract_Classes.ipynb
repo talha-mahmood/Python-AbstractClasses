{
  "nbformat": 4,
  "nbformat_minor": 0,
  "metadata": {
    "colab": {
      "provenance": []
    },
    "kernelspec": {
      "name": "python3",
      "display_name": "Python 3"
    },
    "language_info": {
      "name": "python"
    }
  },
  "cells": [
    {
      "cell_type": "markdown",
      "source": [
        "Basic Shape Drawing:\n",
        " You need to create a program where different shapes (Circle, Square, Triangle) need to\n",
        "be drawn. Each shape should have a method to calculate its area. How would you use an\n",
        "abstract class to define a common method for calculating the area for all shapes?"
      ],
      "metadata": {
        "id": "6ZM3tTUCbTFM"
      }
    },
    {
      "cell_type": "code",
      "source": [
        "from abc import ABC, abstractmethod\n",
        "import math\n",
        "\n",
        "class Shape(ABC):\n",
        "    @abstractmethod\n",
        "    def calculate_area(self):\n",
        "        pass\n",
        "\n",
        "class Circle(Shape):\n",
        "    def __init__(self, radius):\n",
        "        self.radius = radius\n",
        "\n",
        "    def calculate_area(self):\n",
        "        return math.pi * self.radius ** 2\n",
        "\n",
        "class Square(Shape):\n",
        "    def __init__(self, side):\n",
        "        self.side = side\n",
        "\n",
        "    def calculate_area(self):\n",
        "        return self.side ** 2\n",
        "\n",
        "class Triangle(Shape):\n",
        "    def __init__(self, base, height):\n",
        "        self.base = base\n",
        "        self.height = height\n",
        "\n",
        "    def calculate_area(self):\n",
        "        return 0.5 * self.base * self.height\n",
        "\n",
        "# Creating instances of each shape and calculating areas\n",
        "shapes = [\n",
        "    Circle(radius=5),\n",
        "    Square(side=4),\n",
        "    Triangle(base=3, height=6)\n",
        "]\n",
        "\n",
        "for shape in shapes:\n",
        "    print(f\"The area of the shape is: {shape.calculate_area()}\")\n"
      ],
      "metadata": {
        "colab": {
          "base_uri": "https://localhost:8080/"
        },
        "id": "V0p0w-GfbUB8",
        "outputId": "47b00522-3dc8-4b49-c901-6612e369c232"
      },
      "execution_count": null,
      "outputs": [
        {
          "output_type": "stream",
          "name": "stdout",
          "text": [
            "The area of the shape is: 78.53981633974483\n",
            "The area of the shape is: 16\n",
            "The area of the shape is: 9.0\n"
          ]
        }
      ]
    },
    {
      "cell_type": "markdown",
      "source": [
        " Simple Notification System:\n",
        " You want to implement a notification system where notifications can be sent via Email or\n",
        "SMS. Each notification type needs a method to send the notification. How would you\n",
        "design an abstract class or interface to define a common send method for all notification\n",
        "types?"
      ],
      "metadata": {
        "id": "Zp7wpJ57bWQ4"
      }
    },
    {
      "cell_type": "code",
      "source": [
        "from abc import ABC, abstractmethod\n",
        "\n",
        "class Notification(ABC):\n",
        "    @abstractmethod\n",
        "    def send(self, message):\n",
        "        pass\n",
        "\n",
        "class EmailNotification(Notification):\n",
        "    def send(self, message):\n",
        "        print(f\"Sending email: {message}\")\n",
        "\n",
        "class SMSNotification(Notification):\n",
        "    def send(self, message):\n",
        "        print(f\"Sending SMS: {message}\")\n",
        "\n",
        "# Using the notification system\n",
        "notifications = [\n",
        "    EmailNotification(),\n",
        "    SMSNotification()\n",
        "]\n",
        "\n",
        "for notification in notifications:\n",
        "    notification.send(\"This is a test notification.\")\n"
      ],
      "metadata": {
        "colab": {
          "base_uri": "https://localhost:8080/"
        },
        "id": "RkrXMraKbWhI",
        "outputId": "d069a61e-783d-4e8a-a2c8-75e2d6489ce2"
      },
      "execution_count": null,
      "outputs": [
        {
          "output_type": "stream",
          "name": "stdout",
          "text": [
            "Sending email: This is a test notification.\n",
            "Sending SMS: This is a test notification.\n"
          ]
        }
      ]
    },
    {
      "cell_type": "markdown",
      "source": [
        " Vehicle Movement:\n",
        " Imagine you are designing a system to handle different types of vehicles (Car, Bicycle,\n",
        "Boat). Each vehicle should have a method to start and stop. How would you use an\n",
        "abstract class to define these common methods for all vehicles?"
      ],
      "metadata": {
        "id": "3d7YBQUZbWvY"
      }
    },
    {
      "cell_type": "code",
      "source": [
        "from abc import ABC, abstractmethod\n",
        "\n",
        "class Vehicle(ABC):\n",
        "    @abstractmethod\n",
        "    def start(self):\n",
        "        pass\n",
        "\n",
        "    @abstractmethod\n",
        "    def stop(self):\n",
        "        pass\n",
        "\n",
        "class Car(Vehicle):\n",
        "    def start(self):\n",
        "        print(\"Car is starting.\")\n",
        "\n",
        "    def stop(self):\n",
        "        print(\"Car is stopping.\")\n",
        "\n",
        "class Bicycle(Vehicle):\n",
        "    def start(self):\n",
        "        print(\"Bicycle is starting.\")\n",
        "\n",
        "    def stop(self):\n",
        "        print(\"Bicycle is stopping.\")\n",
        "\n",
        "class Boat(Vehicle):\n",
        "    def start(self):\n",
        "        print(\"Boat is starting.\")\n",
        "\n",
        "    def stop(self):\n",
        "        print(\"Boat is stopping.\")\n",
        "\n",
        "# Using the vehicle system\n",
        "vehicles = [\n",
        "    Car(),\n",
        "    Bicycle(),\n",
        "    Boat()\n",
        "]\n",
        "\n",
        "for vehicle in vehicles:\n",
        "    vehicle.start()\n",
        "    vehicle.stop()\n"
      ],
      "metadata": {
        "colab": {
          "base_uri": "https://localhost:8080/"
        },
        "id": "Q42a9lRWbW5I",
        "outputId": "8fd96001-e922-4487-ee32-f5515d85fd5d"
      },
      "execution_count": null,
      "outputs": [
        {
          "output_type": "stream",
          "name": "stdout",
          "text": [
            "Car is starting.\n",
            "Car is stopping.\n",
            "Bicycle is starting.\n",
            "Bicycle is stopping.\n",
            "Boat is starting.\n",
            "Boat is stopping.\n"
          ]
        }
      ]
    },
    {
      "cell_type": "markdown",
      "source": [
        " Simple Payment Processor:\n",
        " You need to handle different payment methods like CreditCard and PayPal. Each\n",
        "payment method should have a method to process the payment. How would you use an\n",
        "abstract class or interface to define a common process_payment method for all payment\n",
        "methods?"
      ],
      "metadata": {
        "id": "oHmJCCd4bXEw"
      }
    },
    {
      "cell_type": "code",
      "source": [
        "from abc import ABC, abstractmethod\n",
        "\n",
        "class PaymentMethod(ABC):\n",
        "    @abstractmethod\n",
        "    def process_payment(self, amount):\n",
        "        pass\n",
        "\n",
        "class CreditCard(PaymentMethod):\n",
        "    def process_payment(self, amount):\n",
        "        print(f\"Processing credit card payment of ${amount}.\")\n",
        "\n",
        "class PayPal(PaymentMethod):\n",
        "    def process_payment(self, amount):\n",
        "        print(f\"Processing PayPal payment of ${amount}.\")\n",
        "\n",
        "# Usage\n",
        "payments = [CreditCard(), PayPal()]\n",
        "\n",
        "for payment in payments:\n",
        "    payment.process_payment(100)\n"
      ],
      "metadata": {
        "colab": {
          "base_uri": "https://localhost:8080/"
        },
        "id": "4WvaoY__bXL4",
        "outputId": "078acab7-1578-4e32-e050-0e48cd57f54b"
      },
      "execution_count": null,
      "outputs": [
        {
          "output_type": "stream",
          "name": "stdout",
          "text": [
            "Processing credit card payment of $100.\n",
            "Processing PayPal payment of $100.\n"
          ]
        }
      ]
    },
    {
      "cell_type": "markdown",
      "source": [
        " Animal Sounds:\n",
        " You are creating a program where different animals (Dog, Cat, Cow) need to make a\n",
        "sound. Each animal should have a method to produce its sound. How would you use an\n",
        "abstract class to define a common method for making sounds for all animals?"
      ],
      "metadata": {
        "id": "oqXeC9wTbXUA"
      }
    },
    {
      "cell_type": "code",
      "source": [
        "from abc import ABC, abstractmethod\n",
        "\n",
        "class Animal(ABC):\n",
        "    @abstractmethod\n",
        "    def make_sound(self):\n",
        "        pass\n",
        "\n",
        "class Dog(Animal):\n",
        "    def make_sound(self):\n",
        "        print(\"Dog says: Woof!\")\n",
        "\n",
        "class Cat(Animal):\n",
        "    def make_sound(self):\n",
        "        print(\"Cat says: Meow!\")\n",
        "\n",
        "class Cow(Animal):\n",
        "    def make_sound(self):\n",
        "        print(\"Cow says: Moo!\")\n",
        "\n",
        "# Usage\n",
        "animals = [Dog(), Cat(), Cow()]\n",
        "\n",
        "for animal in animals:\n",
        "    animal.make_sound()\n"
      ],
      "metadata": {
        "colab": {
          "base_uri": "https://localhost:8080/"
        },
        "id": "8J2svRwDbXas",
        "outputId": "53c8e733-6463-46ce-df06-0984e0ebb44f"
      },
      "execution_count": null,
      "outputs": [
        {
          "output_type": "stream",
          "name": "stdout",
          "text": [
            "Dog says: Woof!\n",
            "Cat says: Meow!\n",
            "Cow says: Moo!\n"
          ]
        }
      ]
    },
    {
      "cell_type": "markdown",
      "source": [
        " Basic User Authentication:\n",
        " You need a system where users can log in using either a Username/Password or a\n",
        "Biometric system. Each authentication method should have a common way to verify the\n",
        "user. How would you design an abstract class or interface to define a common\n",
        "authenticate method for all authentication methods?"
      ],
      "metadata": {
        "id": "3K4ub4oDbXoQ"
      }
    },
    {
      "cell_type": "code",
      "source": [
        "from abc import ABC, abstractmethod\n",
        "\n",
        "class AuthenticationMethod(ABC):\n",
        "    @abstractmethod\n",
        "    def authenticate(self):\n",
        "        pass\n",
        "\n",
        "class UsernamePasswordAuth(AuthenticationMethod):\n",
        "    def authenticate(self):\n",
        "        print(\"Authenticating with username and password.\")\n",
        "\n",
        "class BiometricAuth(AuthenticationMethod):\n",
        "    def authenticate(self):\n",
        "        print(\"Authenticating with biometrics.\")\n",
        "\n",
        "# Usage\n",
        "auth_methods = [UsernamePasswordAuth(), BiometricAuth()]\n",
        "\n",
        "for method in auth_methods:\n",
        "    method.authenticate()\n"
      ],
      "metadata": {
        "colab": {
          "base_uri": "https://localhost:8080/"
        },
        "id": "xPFq9ow2bXtQ",
        "outputId": "7ede090e-7cdf-460b-b7ba-ca822373e591"
      },
      "execution_count": null,
      "outputs": [
        {
          "output_type": "stream",
          "name": "stdout",
          "text": [
            "Authenticating with username and password.\n",
            "Authenticating with biometrics.\n"
          ]
        }
      ]
    },
    {
      "cell_type": "markdown",
      "source": [
        " Simple Alarm System:\n",
        "\n",
        " You are designing an alarm system that can be triggered by either a DoorSensor or a\n",
        "MotionSensor. Each sensor needs a method to activate the alarm. How would you use an\n",
        "abstract class to define a common method for activating the alarm for all sensors?"
      ],
      "metadata": {
        "id": "cPAaYbn6bXy5"
      }
    },
    {
      "cell_type": "code",
      "source": [
        "from abc import ABC, abstractmethod\n",
        "\n",
        "class Sensor(ABC):\n",
        "    @abstractmethod\n",
        "    def activate_alarm(self):\n",
        "        pass\n",
        "\n",
        "class DoorSensor(Sensor):\n",
        "    def activate_alarm(self):\n",
        "        print(\"Door sensor activated. Alarm triggered!\")\n",
        "\n",
        "class MotionSensor(Sensor):\n",
        "    def activate_alarm(self):\n",
        "        print(\"Motion sensor activated. Alarm triggered!\")\n",
        "\n",
        "# Usage\n",
        "sensors = [DoorSensor(), MotionSensor()]\n",
        "\n",
        "for sensor in sensors:\n",
        "    sensor.activate_alarm()\n"
      ],
      "metadata": {
        "colab": {
          "base_uri": "https://localhost:8080/"
        },
        "id": "PUEMPTOgbX4A",
        "outputId": "b858dc2e-f4fa-42bb-e008-423203ccbaeb"
      },
      "execution_count": null,
      "outputs": [
        {
          "output_type": "stream",
          "name": "stdout",
          "text": [
            "Door sensor activated. Alarm triggered!\n",
            "Motion sensor activated. Alarm triggered!\n"
          ]
        }
      ]
    },
    {
      "cell_type": "markdown",
      "source": [
        " Basic Report Generation:\n",
        " You need to generate reports in different formats like PDF and CSV. Each report format\n",
        "should have a method to generate the report. How would you use an abstract class or\n",
        "interface to define a common generate_report method for all report formats?\n",
        "\n"
      ],
      "metadata": {
        "id": "knIDQCf4bX9y"
      }
    },
    {
      "cell_type": "code",
      "source": [
        "from abc import ABC, abstractmethod\n",
        "\n",
        "class Report(ABC):\n",
        "    @abstractmethod\n",
        "    def generate_report(self):\n",
        "        pass\n",
        "\n",
        "class PDFReport(Report):\n",
        "    def generate_report(self):\n",
        "        print(\"Generating PDF report.\")\n",
        "\n",
        "class CSVReport(Report):\n",
        "    def generate_report(self):\n",
        "        print(\"Generating CSV report.\")\n",
        "\n",
        "# Usage\n",
        "reports = [PDFReport(), CSVReport()]\n",
        "\n",
        "for report in reports:\n",
        "    report.generate_report()\n"
      ],
      "metadata": {
        "colab": {
          "base_uri": "https://localhost:8080/"
        },
        "id": "o5osqNRwbYC4",
        "outputId": "0401b960-939f-4c15-8296-d952f4f14b32"
      },
      "execution_count": null,
      "outputs": [
        {
          "output_type": "stream",
          "name": "stdout",
          "text": [
            "Generating PDF report.\n",
            "Generating CSV report.\n"
          ]
        }
      ]
    },
    {
      "cell_type": "markdown",
      "source": [
        " Basic Calculator Operations:\n",
        " You want to build a calculator that can perform different operations such as Addition and\n",
        "Subtraction. Each operation should have a method to execute the calculation. How would\n",
        "you use an abstract class to define a common method for performing calculations for all\n",
        "operations?"
      ],
      "metadata": {
        "id": "vanG2Dn0bYJo"
      }
    },
    {
      "cell_type": "code",
      "source": [
        "from abc import ABC, abstractmethod\n",
        "\n",
        "class Operation(ABC):\n",
        "    @abstractmethod\n",
        "    def execute(self, a, b):\n",
        "        pass\n",
        "\n",
        "class Addition(Operation):\n",
        "    def execute(self, a, b):\n",
        "        return a + b\n",
        "\n",
        "class Subtraction(Operation):\n",
        "    def execute(self, a, b):\n",
        "        return a - b\n",
        "\n",
        "# Usage\n",
        "operations = [Addition(), Subtraction()]\n",
        "\n",
        "for operation in operations:\n",
        "    print(operation.execute(5, 3))\n"
      ],
      "metadata": {
        "colab": {
          "base_uri": "https://localhost:8080/"
        },
        "id": "gIO5imocbYPS",
        "outputId": "c0936d37-1c7e-4761-9a05-28ace0467bf2"
      },
      "execution_count": null,
      "outputs": [
        {
          "output_type": "stream",
          "name": "stdout",
          "text": [
            "8\n",
            "2\n"
          ]
        }
      ]
    },
    {
      "cell_type": "markdown",
      "source": [
        " Simple Food Preparation:\n",
        " Imagine you are creating a kitchen system where different food items (Pasta, Salad,\n",
        "Soup) need to be prepared. Each food item should have a method to prepare it. How\n",
        "would you use an abstract class or interface to define a common prepare method for all\n",
        "food items?"
      ],
      "metadata": {
        "id": "B88DSgpCdPgx"
      }
    },
    {
      "cell_type": "code",
      "source": [
        "from abc import ABC, abstractmethod\n",
        "\n",
        "class FoodItem(ABC):\n",
        "    @abstractmethod\n",
        "    def prepare(self):\n",
        "        pass\n",
        "\n",
        "class Pasta(FoodItem):\n",
        "    def prepare(self):\n",
        "        print(\"Boiling pasta and adding sauce.\")\n",
        "\n",
        "class Salad(FoodItem):\n",
        "    def prepare(self):\n",
        "        print(\"Chopping vegetables and mixing them.\")\n",
        "\n",
        "class Soup(FoodItem):\n",
        "    def prepare(self):\n",
        "        print(\"Boiling ingredients to make soup.\")\n",
        "\n",
        "# Usage\n",
        "foods = [Pasta(), Salad(), Soup()]\n",
        "\n",
        "for food in foods:\n",
        "    food.prepare()\n"
      ],
      "metadata": {
        "colab": {
          "base_uri": "https://localhost:8080/"
        },
        "id": "2ZLnHfQ2dPmh",
        "outputId": "ddfd5c1d-0a27-4028-c2d0-e6b2b2dd8e4d"
      },
      "execution_count": null,
      "outputs": [
        {
          "output_type": "stream",
          "name": "stdout",
          "text": [
            "Boiling pasta and adding sauce.\n",
            "Chopping vegetables and mixing them.\n",
            "Boiling ingredients to make soup.\n"
          ]
        }
      ]
    },
    {
      "cell_type": "markdown",
      "source": [
        " Animal Movement:\n",
        " You are designing a zoo simulation where different animals (Elephant, Giraffe, Penguin)\n",
        "need to move. Each animal should have a method to move in its own way. How would\n",
        "you use an abstract class to define a common method for moving for all animals?"
      ],
      "metadata": {
        "id": "XyOcHIYzdPvI"
      }
    },
    {
      "cell_type": "code",
      "source": [
        "from abc import ABC, abstractmethod\n",
        "\n",
        "class Animal(ABC):\n",
        "    @abstractmethod\n",
        "    def move(self):\n",
        "        pass\n",
        "\n",
        "class Elephant(Animal):\n",
        "    def move(self):\n",
        "        print(\"Elephant walks slowly.\")\n",
        "\n",
        "class Giraffe(Animal):\n",
        "    def move(self):\n",
        "        print(\"Giraffe strides with long legs.\")\n",
        "\n",
        "class Penguin(Animal):\n",
        "    def move(self):\n",
        "        print(\"Penguin waddles.\")\n",
        "\n",
        "# Usage\n",
        "animals = [Elephant(), Giraffe(), Penguin()]\n",
        "\n",
        "for animal in animals:\n",
        "    animal.move()\n"
      ],
      "metadata": {
        "colab": {
          "base_uri": "https://localhost:8080/"
        },
        "id": "KJNd0QA4dP2J",
        "outputId": "29a75d0d-e5a0-4cab-c4be-04c2406c5065"
      },
      "execution_count": null,
      "outputs": [
        {
          "output_type": "stream",
          "name": "stdout",
          "text": [
            "Elephant walks slowly.\n",
            "Giraffe strides with long legs.\n",
            "Penguin waddles.\n"
          ]
        }
      ]
    },
    {
      "cell_type": "markdown",
      "source": [
        " Simple Light Control:\n",
        " You need to control different types of lights (LED, Incandescent, Fluorescent). Each light\n",
        "type should have a method to turn on and off. How would you use an abstract class or\n",
        "interface to define a common control method for all light types?"
      ],
      "metadata": {
        "id": "RDxQpoyfdP9C"
      }
    },
    {
      "cell_type": "code",
      "source": [
        "from abc import ABC, abstractmethod\n",
        "\n",
        "class Light(ABC):\n",
        "    @abstractmethod\n",
        "    def turn_on(self):\n",
        "        pass\n",
        "\n",
        "    @abstractmethod\n",
        "    def turn_off(self):\n",
        "        pass\n",
        "\n",
        "class LED(Light):\n",
        "    def turn_on(self):\n",
        "        print(\"LED light turned on.\")\n",
        "\n",
        "    def turn_off(self):\n",
        "        print(\"LED light turned off.\")\n",
        "\n",
        "class Incandescent(Light):\n",
        "    def turn_on(self):\n",
        "        print(\"Incandescent light turned on.\")\n",
        "\n",
        "    def turn_off(self):\n",
        "        print(\"Incandescent light turned off.\")\n",
        "\n",
        "class Fluorescent(Light):\n",
        "    def turn_on(self):\n",
        "        print(\"Fluorescent light turned on.\")\n",
        "\n",
        "    def turn_off(self):\n",
        "        print(\"Fluorescent light turned off.\")\n",
        "\n",
        "# Usage\n",
        "lights = [LED(), Incandescent(), Fluorescent()]\n",
        "\n",
        "for light in lights:\n",
        "    light.turn_on()\n",
        "    light.turn_off()\n"
      ],
      "metadata": {
        "colab": {
          "base_uri": "https://localhost:8080/"
        },
        "id": "dJSP3v4sdQDF",
        "outputId": "dcfb7e32-7f4a-433f-af1c-813c467b8dfd"
      },
      "execution_count": null,
      "outputs": [
        {
          "output_type": "stream",
          "name": "stdout",
          "text": [
            "LED light turned on.\n",
            "LED light turned off.\n",
            "Incandescent light turned on.\n",
            "Incandescent light turned off.\n",
            "Fluorescent light turned on.\n",
            "Fluorescent light turned off.\n"
          ]
        }
      ]
    },
    {
      "cell_type": "markdown",
      "source": [
        " Basic Payment Receipt:\n",
        " You are building a payment system that can generate receipts for different payment\n",
        "methods like Cash and CreditCard. Each payment method should have a method to\n",
        "generate a receipt. How would you use an abstract class or interface to define a common\n",
        "generate_receipt method for all payment methods?"
      ],
      "metadata": {
        "id": "FV_gxH9QdQJZ"
      }
    },
    {
      "cell_type": "code",
      "source": [
        "from abc import ABC, abstractmethod\n",
        "\n",
        "class Payment(ABC):\n",
        "    @abstractmethod\n",
        "    def generate_receipt(self, amount):\n",
        "        pass\n",
        "\n",
        "class Cash(Payment):\n",
        "    def generate_receipt(self, amount):\n",
        "        print(f\"Receipt for cash payment of ${amount}.\")\n",
        "\n",
        "class CreditCard(Payment):\n",
        "    def generate_receipt(self, amount):\n",
        "        print(f\"Receipt for credit card payment of ${amount}.\")\n",
        "\n",
        "# Usage\n",
        "payments = [Cash(), CreditCard()]\n",
        "\n",
        "for payment in payments:\n",
        "    payment.generate_receipt(100)\n"
      ],
      "metadata": {
        "colab": {
          "base_uri": "https://localhost:8080/"
        },
        "id": "SDN9nxyvdQO6",
        "outputId": "6d76d933-169c-42da-ddd5-ae2ae52eb17c"
      },
      "execution_count": null,
      "outputs": [
        {
          "output_type": "stream",
          "name": "stdout",
          "text": [
            "Receipt for cash payment of $100.\n",
            "Receipt for credit card payment of $100.\n"
          ]
        }
      ]
    },
    {
      "cell_type": "markdown",
      "source": [
        " Simple Task Management:\n",
        "\n",
        " You are creating a task management system where tasks can be categorized as WorkTask\n",
        "or PersonalTask. Each task type should have a method to mark it as complete. How\n",
        "would you use an abstract class to define a common method for completing tasks?"
      ],
      "metadata": {
        "id": "rT6XHACcdQVV"
      }
    },
    {
      "cell_type": "code",
      "source": [
        "from abc import ABC, abstractmethod\n",
        "\n",
        "class Task(ABC):\n",
        "    @abstractmethod\n",
        "    def complete(self):\n",
        "        pass\n",
        "\n",
        "class WorkTask(Task):\n",
        "    def complete(self):\n",
        "        print(\"Completing a work task.\")\n",
        "\n",
        "class PersonalTask(Task):\n",
        "    def complete(self):\n",
        "        print(\"Completing a personal task.\")\n",
        "\n",
        "# Usage\n",
        "tasks = [WorkTask(), PersonalTask()]\n",
        "\n",
        "for task in tasks:\n",
        "    task.complete()\n"
      ],
      "metadata": {
        "colab": {
          "base_uri": "https://localhost:8080/"
        },
        "id": "ihAwWejrdQap",
        "outputId": "4f846de5-ab77-4aea-d423-1f789aa1db1e"
      },
      "execution_count": null,
      "outputs": [
        {
          "output_type": "stream",
          "name": "stdout",
          "text": [
            "Completing a work task.\n",
            "Completing a personal task.\n"
          ]
        }
      ]
    },
    {
      "cell_type": "markdown",
      "source": [
        " Basic User Profile:\n",
        " You need to handle user profiles for different types of users (Admin, Guest,\n",
        "RegisteredUser). Each user type should have a method to display their profile\n",
        "information. How would you use an abstract class to define a common method for\n",
        "displaying profile information for all user types?"
      ],
      "metadata": {
        "id": "zqJswhjAdQgb"
      }
    },
    {
      "cell_type": "code",
      "source": [
        "from abc import ABC, abstractmethod\n",
        "\n",
        "class User(ABC):\n",
        "    @abstractmethod\n",
        "    def display_profile(self):\n",
        "        pass\n",
        "\n",
        "class Admin(User):\n",
        "    def display_profile(self):\n",
        "        print(\"Admin Profile: Full access to the system.\")\n",
        "\n",
        "class Guest(User):\n",
        "    def display_profile(self):\n",
        "        print(\"Guest Profile: Limited access to the system.\")\n",
        "\n",
        "class RegisteredUser(User):\n",
        "    def display_profile(self):\n",
        "        print(\"Registered User Profile: Access to personal data and settings.\")\n",
        "\n",
        "# Usage\n",
        "users = [Admin(), Guest(), RegisteredUser()]\n",
        "\n",
        "for user in users:\n",
        "    user.display_profile()\n"
      ],
      "metadata": {
        "colab": {
          "base_uri": "https://localhost:8080/"
        },
        "id": "4nrlY15ddQlr",
        "outputId": "f7a1b431-2890-47d9-dbce-958f4d4ff99a"
      },
      "execution_count": null,
      "outputs": [
        {
          "output_type": "stream",
          "name": "stdout",
          "text": [
            "Admin Profile: Full access to the system.\n",
            "Guest Profile: Limited access to the system.\n",
            "Registered User Profile: Access to personal data and settings.\n"
          ]
        }
      ]
    },
    {
      "cell_type": "markdown",
      "source": [
        " Simple Temperature Sensors:\n",
        " You are working with different temperature sensors (Thermometer, Thermocouple). Each\n",
        "sensor type should have a method to read the current temperature. How would you use an\n",
        "abstract class or interface to define a common read_temperature method for all sensor\n",
        "types?"
      ],
      "metadata": {
        "id": "3RFW_Zp-dQrh"
      }
    },
    {
      "cell_type": "code",
      "source": [
        "from abc import ABC, abstractmethod\n",
        "\n",
        "class TemperatureSensor(ABC):\n",
        "    @abstractmethod\n",
        "    def read_temperature(self):\n",
        "        pass\n",
        "\n",
        "class Thermometer(TemperatureSensor):\n",
        "    def read_temperature(self):\n",
        "        print(\"Thermometer reading: 25°C\")\n",
        "\n",
        "class Thermocouple(TemperatureSensor):\n",
        "    def read_temperature(self):\n",
        "        print(\"Thermocouple reading: 500°C\")\n",
        "\n",
        "# Usage\n",
        "sensors = [Thermometer(), Thermocouple()]\n",
        "\n",
        "for sensor in sensors:\n",
        "    sensor.read_temperature()\n"
      ],
      "metadata": {
        "colab": {
          "base_uri": "https://localhost:8080/"
        },
        "id": "rjI5U6uRdQxR",
        "outputId": "3c24ec7d-1117-423a-943d-a17e482106cb"
      },
      "execution_count": null,
      "outputs": [
        {
          "output_type": "stream",
          "name": "stdout",
          "text": [
            "Thermometer reading: 25°C\n",
            "Thermocouple reading: 500°C\n"
          ]
        }
      ]
    },
    {
      "cell_type": "markdown",
      "source": [
        " Basic Calculator Functions:\n",
        " You want to build a simple calculator that supports different functions like Addition and\n",
        "Multiplication. Each function should have a method to compute the result. How would\n",
        "you use an abstract class to define a common method for computing results for all\n",
        "functions?"
      ],
      "metadata": {
        "id": "3w8JpD5udQ2K"
      }
    },
    {
      "cell_type": "code",
      "source": [
        "from abc import ABC, abstractmethod\n",
        "\n",
        "class CalculatorFunction(ABC):\n",
        "    @abstractmethod\n",
        "    def compute(self, a, b):\n",
        "        pass\n",
        "\n",
        "class Addition(CalculatorFunction):\n",
        "    def compute(self, a, b):\n",
        "        return a + b\n",
        "\n",
        "class Multiplication(CalculatorFunction):\n",
        "    def compute(self, a, b):\n",
        "        return a * b\n",
        "\n",
        "# Usage\n",
        "functions = [Addition(), Multiplication()]\n",
        "\n",
        "for function in functions:\n",
        "    print(f\"Result: {function.compute(4, 5)}\")\n"
      ],
      "metadata": {
        "colab": {
          "base_uri": "https://localhost:8080/"
        },
        "id": "wwfvzE0PdQ8r",
        "outputId": "5ed02a30-8aac-4ae1-a2a4-d42a3d0c9055"
      },
      "execution_count": null,
      "outputs": [
        {
          "output_type": "stream",
          "name": "stdout",
          "text": [
            "Result: 9\n",
            "Result: 20\n"
          ]
        }
      ]
    },
    {
      "cell_type": "markdown",
      "source": [
        " Simple File Operations:\n",
        " You are working on a file management system where files can be of different types\n",
        "(TextFile, BinaryFile). Each file type should have methods for opening and closing the\n",
        "file. How would you use an abstract class or interface to define these common methods\n",
        "for all file types?"
      ],
      "metadata": {
        "id": "Wr5UYEqAeqoD"
      }
    },
    {
      "cell_type": "code",
      "source": [
        "from abc import ABC, abstractmethod\n",
        "\n",
        "class File(ABC):\n",
        "    @abstractmethod\n",
        "    def open(self):\n",
        "        pass\n",
        "\n",
        "    @abstractmethod\n",
        "    def close(self):\n",
        "        pass\n",
        "\n",
        "class TextFile(File):\n",
        "    def open(self):\n",
        "        print(\"Opening text file.\")\n",
        "\n",
        "    def close(self):\n",
        "        print(\"Closing text file.\")\n",
        "\n",
        "class BinaryFile(File):\n",
        "    def open(self):\n",
        "        print(\"Opening binary file.\")\n",
        "\n",
        "    def close(self):\n",
        "        print(\"Closing binary file.\")\n",
        "\n",
        "# Usage\n",
        "files = [TextFile(), BinaryFile()]\n",
        "\n",
        "for file in files:\n",
        "    file.open()\n",
        "    file.close()\n"
      ],
      "metadata": {
        "colab": {
          "base_uri": "https://localhost:8080/"
        },
        "id": "sTRIwSTQeqtZ",
        "outputId": "8b3fa6ab-9eaf-4cd9-df59-57689ecb8fc9"
      },
      "execution_count": null,
      "outputs": [
        {
          "output_type": "stream",
          "name": "stdout",
          "text": [
            "Opening text file.\n",
            "Closing text file.\n",
            "Opening binary file.\n",
            "Closing binary file.\n"
          ]
        }
      ]
    },
    {
      "cell_type": "markdown",
      "source": [
        " Basic Vehicle Maintenance:\n",
        " You need to manage maintenance tasks for different types of vehicles (Car, Motorcycle,\n",
        "Truck). Each vehicle type should have a method to perform a maintenance check. How\n",
        "would you use an abstract class to define a common method for performing maintenance\n",
        "checks for all vehicles?"
      ],
      "metadata": {
        "id": "Q_oh3ccHeqy6"
      }
    },
    {
      "cell_type": "code",
      "source": [
        "from abc import ABC, abstractmethod\n",
        "\n",
        "class Vehicle(ABC):\n",
        "    @abstractmethod\n",
        "    def perform_maintenance(self):\n",
        "        pass\n",
        "\n",
        "class Car(Vehicle):\n",
        "    def perform_maintenance(self):\n",
        "        print(\"Performing maintenance on Car: Oil change, tire rotation.\")\n",
        "\n",
        "class Motorcycle(Vehicle):\n",
        "    def perform_maintenance(self):\n",
        "        print(\"Performing maintenance on Motorcycle: Chain lubrication, brake check.\")\n",
        "\n",
        "class Truck(Vehicle):\n",
        "    def perform_maintenance(self):\n",
        "        print(\"Performing maintenance on Truck: Engine check, cargo inspection.\")\n",
        "\n",
        "# Usage\n",
        "vehicles = [Car(), Motorcycle(), Truck()]\n",
        "\n",
        "for vehicle in vehicles:\n",
        "    vehicle.perform_maintenance()\n"
      ],
      "metadata": {
        "colab": {
          "base_uri": "https://localhost:8080/"
        },
        "id": "sLyTHf2Ceq3i",
        "outputId": "5979392d-8e61-42d6-88de-d84967e1ae06"
      },
      "execution_count": null,
      "outputs": [
        {
          "output_type": "stream",
          "name": "stdout",
          "text": [
            "Performing maintenance on Car: Oil change, tire rotation.\n",
            "Performing maintenance on Motorcycle: Chain lubrication, brake check.\n",
            "Performing maintenance on Truck: Engine check, cargo inspection.\n"
          ]
        }
      ]
    }
  ]
}